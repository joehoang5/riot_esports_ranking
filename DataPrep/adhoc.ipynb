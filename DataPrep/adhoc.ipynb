{
 "cells": [
  {
   "cell_type": "code",
   "execution_count": 1,
   "metadata": {},
   "outputs": [],
   "source": [
    "import json\n",
    "import os\n",
    "import sys\n",
    "import pandas as pd\n",
    "import numpy as np\n",
    "\n",
    "sys.path.append(\"..\")\n",
    "\n",
    "files = ['leagues',\n",
    " 'mapping_data',\n",
    " 'players',\n",
    " 'teams',\n",
    " 'tournaments']\n"
   ]
  },
  {
   "cell_type": "code",
   "execution_count": 40,
   "metadata": {},
   "outputs": [],
   "source": [
    "### Helper Functions\n",
    "\n",
    "def create_handle_map(player_data)->dict:\n",
    "    player_id_map = {entry['player_id']: entry['handle'] for entry in player_data}\n",
    "    return player_id_map\n",
    "\n",
    "def id_to_handle(indices, player_id_map):\n",
    "    return {index: player_id_map[player_id] for index, player_id in indices.items() if player_id in player_id_map}\n"
   ]
  },
  {
   "cell_type": "markdown",
   "metadata": {},
   "source": [
    "Esports Data:\n",
    "\n",
    "1. leagues - ['name','slug','region','tournaments'] - name and region of the league and then within tournaments is a list of key-value pairs corresponding to {'id':\"someid\"} `tournaments` has the list of dicts corresponding to tournaments\n",
    "2. mapping_data - ['esportsGameId','teamMapping','participantMapping'] - Game Id, dictionary containing {\"200\":\"id\",\"100\":\"id\"},participant mapping has a dictionary containing {\"3\":\"id\"} for 1-10 as the keys `player_list` has the player ids for a game\n",
    "3. players - ['player_id','handle','home_team_id'] - first and last name for a player is given too, maybe used to verify the player (esp if they changed handle). `player_map` has the player handles all in one reference\n",
    "4. teams - ['team_id','name','acronym','slug'] - no nested information, can use this to directly give a name to each team\n",
    "5. tournaments - ['id','leagueId','slug','startDate','endDate','stages'] - tournament id, league id, name of tournament, start of tournament, end of tournament, stages is a list of dictionaries containing the stages of a tournament (groups, knockout)\n",
    "\n",
    "5.5 stages - ['slug','sections'] - slug is the name of the stage and sections has a list of dictionaries. sections are the different partitions for the tournament stage (e.g. group A, B, etc)\n",
    "5.6 sections - ['names','matches','rankings'] - name of the section, list of dictionaries for the matches played and rankings (I think rankings aren't there for the first game since there weren't any games)\n",
    "5.65 matches - ['id','state','strategy','teams','games']"
   ]
  },
  {
   "cell_type": "code",
   "execution_count": 2,
   "metadata": {},
   "outputs": [],
   "source": [
    "file = files[4]\n",
    "\n",
    "with open(f'C:/Users/akmar/PycharmProjects/lolpowerrank/riot_esports_ranking/esports-data/{file}.json', 'r') as f:\n",
    "    data = json.load(f)\n",
    "\n"
   ]
  },
  {
   "cell_type": "code",
   "execution_count": 41,
   "metadata": {},
   "outputs": [],
   "source": [
    "df = pd.read_parquet(\"C:\\\\Users\\\\akmar\\\\PycharmProjects\\\\lolpowerrank\\\\riot_esports_ranking\\\\combined_data_raw.parquet\")"
   ]
  },
  {
   "cell_type": "code",
   "execution_count": 46,
   "metadata": {},
   "outputs": [
    {
     "data": {
      "text/plain": [
       "Series([], Name: count, dtype: int64)"
      ]
     },
     "execution_count": 46,
     "metadata": {},
     "output_type": "execute_result"
    }
   ],
   "source": []
  },
  {
   "cell_type": "code",
   "execution_count": 76,
   "metadata": {},
   "outputs": [
    {
     "ename": "IndexError",
     "evalue": "list index out of range",
     "output_type": "error",
     "traceback": [
      "\u001b[1;31m---------------------------------------------------------------------------\u001b[0m",
      "\u001b[1;31mIndexError\u001b[0m                                Traceback (most recent call last)",
      "\u001b[1;32mc:\\Users\\akmar\\PycharmProjects\\lolpowerrank\\riot_esports_ranking\\DataPrep\\adhoc.ipynb Cell 7\u001b[0m line \u001b[0;36m1\n\u001b[1;32m----> <a href='vscode-notebook-cell:/c%3A/Users/akmar/PycharmProjects/lolpowerrank/riot_esports_ranking/DataPrep/adhoc.ipynb#W5sZmlsZQ%3D%3D?line=0'>1</a>\u001b[0m data[\u001b[39m24\u001b[39;49m][\u001b[39m'\u001b[39;49m\u001b[39mstages\u001b[39;49m\u001b[39m'\u001b[39;49m][\u001b[39m1\u001b[39;49m][\u001b[39m'\u001b[39;49m\u001b[39msections\u001b[39;49m\u001b[39m'\u001b[39;49m][\u001b[39m0\u001b[39;49m][\u001b[39m'\u001b[39;49m\u001b[39mmatches\u001b[39;49m\u001b[39m'\u001b[39;49m][\u001b[39m8\u001b[39;49m][\u001b[39m'\u001b[39m\u001b[39mteams\u001b[39m\u001b[39m'\u001b[39m]\n",
      "\u001b[1;31mIndexError\u001b[0m: list index out of range"
     ]
    }
   ],
   "source": [
    "data[24]['stages'][1]['sections'][0]['matches'][8]['teams']\n",
    "\n"
   ]
  },
  {
   "cell_type": "code",
   "execution_count": 55,
   "metadata": {},
   "outputs": [
    {
     "data": {
      "text/plain": [
       "{'lck_2020_split1',\n",
       " 'lck_regional_finals_2021',\n",
       " 'lck_regional_finals_2022',\n",
       " 'lck_spring_2021',\n",
       " 'lck_spring_2022',\n",
       " 'lck_spring_2023',\n",
       " 'lck_summer_2020',\n",
       " 'lck_summer_2021',\n",
       " 'lck_summer_2022',\n",
       " 'lck_summer_2023'}"
      ]
     },
     "execution_count": 55,
     "metadata": {},
     "output_type": "execute_result"
    }
   ],
   "source": [
    "a =sorted([league['slug'] for league in data if league['leagueId'] ==  '98767991310872058'])\n",
    "new_id =  '108001239847565215'\n",
    "set(a)"
   ]
  },
  {
   "cell_type": "code",
   "execution_count": 50,
   "metadata": {},
   "outputs": [
    {
     "data": {
      "text/plain": [
       "{'LCS': '98767991299243165',\n",
       " 'LCS Challengers': '109511549831443335',\n",
       " 'LCS Challengers Qualifiers': '109518549825754242',\n",
       " 'College Championship': '107898214974993351',\n",
       " 'CBLOL': '98767991332355509',\n",
       " 'LCK': '98767991310872058',\n",
       " 'LCL': '98767991355908944',\n",
       " 'LCO': '105709090213554609',\n",
       " 'LEC': '98767991302996019',\n",
       " 'LJL': '98767991349978712',\n",
       " 'LLA': '101382741235120470',\n",
       " 'LPL': '98767991314006698',\n",
       " 'PCS': '104366947889790212',\n",
       " 'TCL': '98767991343597634',\n",
       " 'VCS': '107213827295848783',\n",
       " 'MSI': '98767991325878492',\n",
       " 'Worlds': '98767975604431411',\n",
       " 'All-Star Event': '98767991295297326',\n",
       " 'EMEA Masters': '100695891328981122',\n",
       " 'La Ligue Française': '105266103462388553',\n",
       " 'NLC': '105266098308571975',\n",
       " 'Elite Series': '107407335299756365',\n",
       " 'Liga Portuguesa': '105266101075764040',\n",
       " 'PG Nationals': '105266094998946936',\n",
       " 'Ultraliga': '105266088231437431',\n",
       " 'SuperLiga': '105266074488398661',\n",
       " 'Prime League': '105266091639104326',\n",
       " 'Hitpoint Masters': '105266106309666619',\n",
       " 'Esports Balkan League': '105266111679554379',\n",
       " 'Greek Legends League': '105266108767593290',\n",
       " 'Arabian League': '109545772895506419',\n",
       " 'LCK Academy': '108203770023880322',\n",
       " 'LJL Academy': '106827757669296909',\n",
       " 'LCK Challengers': '98767991335774713',\n",
       " 'CBLOL Academy': '105549980953490846',\n",
       " 'North Regional League': '110371976858004491',\n",
       " 'South Regional League': '110372322609949919',\n",
       " 'TFT Rising Legends': '108001239847565215'}"
      ]
     },
     "execution_count": 50,
     "metadata": {},
     "output_type": "execute_result"
    }
   ],
   "source": [
    "b = {league['name']:league[\"id\"] for league in data} \n",
    "b"
   ]
  },
  {
   "cell_type": "code",
   "execution_count": 32,
   "metadata": {},
   "outputs": [
    {
     "data": {
      "text/html": [
       "<div>\n",
       "<style scoped>\n",
       "    .dataframe tbody tr th:only-of-type {\n",
       "        vertical-align: middle;\n",
       "    }\n",
       "\n",
       "    .dataframe tbody tr th {\n",
       "        vertical-align: top;\n",
       "    }\n",
       "\n",
       "    .dataframe thead th {\n",
       "        text-align: right;\n",
       "    }\n",
       "</style>\n",
       "<table border=\"1\" class=\"dataframe\">\n",
       "  <thead>\n",
       "    <tr style=\"text-align: right;\">\n",
       "      <th></th>\n",
       "      <th>id</th>\n",
       "      <th>leagueId</th>\n",
       "      <th>name</th>\n",
       "      <th>slug</th>\n",
       "      <th>sport</th>\n",
       "      <th>startDate</th>\n",
       "      <th>endDate</th>\n",
       "      <th>stages</th>\n",
       "    </tr>\n",
       "  </thead>\n",
       "  <tbody>\n",
       "    <tr>\n",
       "      <th>0</th>\n",
       "      <td>110733838935136200</td>\n",
       "      <td>109518549825754242</td>\n",
       "      <td>#2 Summer 2023</td>\n",
       "      <td>nacl_qualifiers_2_summer_2023</td>\n",
       "      <td>lol</td>\n",
       "      <td>2023-07-20</td>\n",
       "      <td>2023-08-15</td>\n",
       "      <td>[{'name': 'Groups', 'type': None, 'slug': 'gro...</td>\n",
       "    </tr>\n",
       "    <tr>\n",
       "      <th>1</th>\n",
       "      <td>110428723804419399</td>\n",
       "      <td>105266108767593290</td>\n",
       "      <td>Summer 2023</td>\n",
       "      <td>gll_summer_2023</td>\n",
       "      <td>lol</td>\n",
       "      <td>2023-06-04</td>\n",
       "      <td>2023-08-19</td>\n",
       "      <td>[{'name': 'Regular Season', 'type': None, 'slu...</td>\n",
       "    </tr>\n",
       "    <tr>\n",
       "      <th>2</th>\n",
       "      <td>110424377524465827</td>\n",
       "      <td>107407335299756365</td>\n",
       "      <td>Summer 2023</td>\n",
       "      <td>elite_series_summer_2023</td>\n",
       "      <td>lol</td>\n",
       "      <td>2023-06-04</td>\n",
       "      <td>2023-08-19</td>\n",
       "      <td>[{'name': 'Regular Season', 'type': None, 'slu...</td>\n",
       "    </tr>\n",
       "    <tr>\n",
       "      <th>3</th>\n",
       "      <td>110349992504762921</td>\n",
       "      <td>105266074488398661</td>\n",
       "      <td>Summer 2023</td>\n",
       "      <td>superliga_summer_2023</td>\n",
       "      <td>lol</td>\n",
       "      <td>2023-05-28</td>\n",
       "      <td>2023-08-19</td>\n",
       "      <td>[{'name': 'Regular Season', 'type': None, 'slu...</td>\n",
       "    </tr>\n",
       "    <tr>\n",
       "      <th>4</th>\n",
       "      <td>110310652404523974</td>\n",
       "      <td>105266088231437431</td>\n",
       "      <td>Summer 2023</td>\n",
       "      <td>ultraliga_summer_2023</td>\n",
       "      <td>lol</td>\n",
       "      <td>2023-05-28</td>\n",
       "      <td>2023-08-13</td>\n",
       "      <td>[{'name': 'Regular Season', 'type': None, 'slu...</td>\n",
       "    </tr>\n",
       "    <tr>\n",
       "      <th>...</th>\n",
       "      <td>...</td>\n",
       "      <td>...</td>\n",
       "      <td>...</td>\n",
       "      <td>...</td>\n",
       "      <td>...</td>\n",
       "      <td>...</td>\n",
       "      <td>...</td>\n",
       "      <td>...</td>\n",
       "    </tr>\n",
       "    <tr>\n",
       "      <th>243</th>\n",
       "      <td>103462439438682788</td>\n",
       "      <td>98767991299243165</td>\n",
       "      <td>LCS Spring 2020</td>\n",
       "      <td>lcs_spring_2020</td>\n",
       "      <td>lol</td>\n",
       "      <td>2020-01-24</td>\n",
       "      <td>2020-04-20</td>\n",
       "      <td>[{'name': 'Regular Season', 'type': None, 'slu...</td>\n",
       "    </tr>\n",
       "    <tr>\n",
       "      <th>244</th>\n",
       "      <td>104253013242629769</td>\n",
       "      <td>101097443346691685</td>\n",
       "      <td>TAL Summer 2020</td>\n",
       "      <td>tal_summer_2020</td>\n",
       "      <td>lol</td>\n",
       "      <td>2020-06-08</td>\n",
       "      <td>2020-08-10</td>\n",
       "      <td>[{'name': 'Regular Season', 'type': None, 'slu...</td>\n",
       "    </tr>\n",
       "    <tr>\n",
       "      <th>245</th>\n",
       "      <td>105386292089445027</td>\n",
       "      <td>98767991295297326</td>\n",
       "      <td>ase_2020</td>\n",
       "      <td>ase_2020</td>\n",
       "      <td>lol</td>\n",
       "      <td>2020-12-18</td>\n",
       "      <td>2020-12-20</td>\n",
       "      <td>[{'name': 'east', 'type': None, 'slug': 'east'...</td>\n",
       "    </tr>\n",
       "    <tr>\n",
       "      <th>246</th>\n",
       "      <td>105562379823435874</td>\n",
       "      <td>105266118689416013</td>\n",
       "      <td>baltic_masters_2021_spring</td>\n",
       "      <td>baltic_masters_2021_spring</td>\n",
       "      <td>lol</td>\n",
       "      <td>2021-01-16</td>\n",
       "      <td>2021-03-12</td>\n",
       "      <td>[{'name': 'Regular Season', 'type': None, 'slu...</td>\n",
       "    </tr>\n",
       "    <tr>\n",
       "      <th>247</th>\n",
       "      <td>104237136838348356</td>\n",
       "      <td>101382741235120470</td>\n",
       "      <td>lla-closing-2020</td>\n",
       "      <td>lla-closing-2020</td>\n",
       "      <td>lol</td>\n",
       "      <td>2020-06-20</td>\n",
       "      <td>2020-09-06</td>\n",
       "      <td>[{'name': 'Regular Season', 'type': None, 'slu...</td>\n",
       "    </tr>\n",
       "  </tbody>\n",
       "</table>\n",
       "<p>248 rows × 8 columns</p>\n",
       "</div>"
      ],
      "text/plain": [
       "                     id            leagueId                        name  \\\n",
       "0    110733838935136200  109518549825754242              #2 Summer 2023   \n",
       "1    110428723804419399  105266108767593290                 Summer 2023   \n",
       "2    110424377524465827  107407335299756365                 Summer 2023   \n",
       "3    110349992504762921  105266074488398661                 Summer 2023   \n",
       "4    110310652404523974  105266088231437431                 Summer 2023   \n",
       "..                  ...                 ...                         ...   \n",
       "243  103462439438682788   98767991299243165             LCS Spring 2020   \n",
       "244  104253013242629769  101097443346691685             TAL Summer 2020   \n",
       "245  105386292089445027   98767991295297326                    ase_2020   \n",
       "246  105562379823435874  105266118689416013  baltic_masters_2021_spring   \n",
       "247  104237136838348356  101382741235120470            lla-closing-2020   \n",
       "\n",
       "                              slug sport   startDate     endDate  \\\n",
       "0    nacl_qualifiers_2_summer_2023   lol  2023-07-20  2023-08-15   \n",
       "1                  gll_summer_2023   lol  2023-06-04  2023-08-19   \n",
       "2         elite_series_summer_2023   lol  2023-06-04  2023-08-19   \n",
       "3            superliga_summer_2023   lol  2023-05-28  2023-08-19   \n",
       "4            ultraliga_summer_2023   lol  2023-05-28  2023-08-13   \n",
       "..                             ...   ...         ...         ...   \n",
       "243                lcs_spring_2020   lol  2020-01-24  2020-04-20   \n",
       "244                tal_summer_2020   lol  2020-06-08  2020-08-10   \n",
       "245                       ase_2020   lol  2020-12-18  2020-12-20   \n",
       "246     baltic_masters_2021_spring   lol  2021-01-16  2021-03-12   \n",
       "247               lla-closing-2020   lol  2020-06-20  2020-09-06   \n",
       "\n",
       "                                                stages  \n",
       "0    [{'name': 'Groups', 'type': None, 'slug': 'gro...  \n",
       "1    [{'name': 'Regular Season', 'type': None, 'slu...  \n",
       "2    [{'name': 'Regular Season', 'type': None, 'slu...  \n",
       "3    [{'name': 'Regular Season', 'type': None, 'slu...  \n",
       "4    [{'name': 'Regular Season', 'type': None, 'slu...  \n",
       "..                                                 ...  \n",
       "243  [{'name': 'Regular Season', 'type': None, 'slu...  \n",
       "244  [{'name': 'Regular Season', 'type': None, 'slu...  \n",
       "245  [{'name': 'east', 'type': None, 'slug': 'east'...  \n",
       "246  [{'name': 'Regular Season', 'type': None, 'slu...  \n",
       "247  [{'name': 'Regular Season', 'type': None, 'slu...  \n",
       "\n",
       "[248 rows x 8 columns]"
      ]
     },
     "execution_count": 32,
     "metadata": {},
     "output_type": "execute_result"
    }
   ],
   "source": [
    "df = pd.json_normalize(data,sep=\"_\")\n",
    "a = pd.json_normalize(df[\"stages\"][0],sep=\"_\")\n",
    "b = pd.json_normalize(a[\"sections\"][0],sep=\"_\")\n",
    "c = pd.json_normalize(b[\"matches\"][0],sep=\"_\")\n",
    "d = pd.json_normalize(c[\"teams\"][0],sep=\"_\")\n",
    "d2 = pd.json_normalize(c[\"games\"][0],sep=\"_\")\n",
    "df"
   ]
  },
  {
   "cell_type": "code",
   "execution_count": 48,
   "metadata": {},
   "outputs": [],
   "source": [
    "player_list = []\n",
    "for i in range(0,len(data),1000):\n",
    "    player_list.append(data[i][\"participantMapping\"])"
   ]
  },
  {
   "cell_type": "code",
   "execution_count": 49,
   "metadata": {},
   "outputs": [
    {
     "data": {
      "text/plain": [
       "26"
      ]
     },
     "execution_count": 49,
     "metadata": {},
     "output_type": "execute_result"
    }
   ],
   "source": [
    "len(player_list)"
   ]
  },
  {
   "cell_type": "code",
   "execution_count": 41,
   "metadata": {},
   "outputs": [],
   "source": [
    "player_map = create_handle_map(data)"
   ]
  },
  {
   "cell_type": "code",
   "execution_count": 73,
   "metadata": {},
   "outputs": [],
   "source": [
    "player_map_df = pd.DataFrame.from_dict(player_map,'index')\n",
    "player_map_df.columns = [\"Player\"]\n",
    "player_map_df.to_csv(\"player_map.csv\")"
   ]
  },
  {
   "cell_type": "code",
   "execution_count": 59,
   "metadata": {},
   "outputs": [
    {
     "data": {
      "text/plain": [
       "{'3': 'Bjergsen',\n",
       " '5': 'Biofrost',\n",
       " '10': 'IgNar',\n",
       " '2': 'Dardoch',\n",
       " '1': 'BrokenBlade',\n",
       " '9': 'WildTurtle',\n",
       " '7': 'Santorin',\n",
       " '8': 'PowerOfEvil',\n",
       " '6': 'Solo',\n",
       " '4': 'Kobbe'}"
      ]
     },
     "execution_count": 59,
     "metadata": {},
     "output_type": "execute_result"
    }
   ],
   "source": [
    "id_to_handle(player_list[2],player_map)"
   ]
  },
  {
   "cell_type": "code",
   "execution_count": 32,
   "metadata": {},
   "outputs": [
    {
     "data": {
      "text/plain": [
       "4222"
      ]
     },
     "execution_count": 32,
     "metadata": {},
     "output_type": "execute_result"
    }
   ],
   "source": [
    "player_mappings = {}\n",
    "for j in range(1,10):\n",
    "    \n",
    "for i in range(len(data)):\n",
    "    if data[i][\"player_id\"] == "
   ]
  },
  {
   "cell_type": "code",
   "execution_count": 25,
   "metadata": {},
   "outputs": [
    {
     "data": {
      "text/plain": [
       "['LCS',\n",
       " 'LCS Challengers',\n",
       " 'LCS Challengers Qualifiers',\n",
       " 'College Championship',\n",
       " 'CBLOL',\n",
       " 'LCK',\n",
       " 'LCL',\n",
       " 'LCO',\n",
       " 'LEC',\n",
       " 'LJL',\n",
       " 'LLA',\n",
       " 'LPL',\n",
       " 'PCS',\n",
       " 'TCL',\n",
       " 'VCS',\n",
       " 'MSI',\n",
       " 'Worlds',\n",
       " 'All-Star Event',\n",
       " 'EMEA Masters',\n",
       " 'La Ligue Française',\n",
       " 'NLC',\n",
       " 'Elite Series',\n",
       " 'Liga Portuguesa',\n",
       " 'PG Nationals',\n",
       " 'Ultraliga',\n",
       " 'SuperLiga',\n",
       " 'Prime League',\n",
       " 'Hitpoint Masters',\n",
       " 'Esports Balkan League',\n",
       " 'Greek Legends League',\n",
       " 'Arabian League',\n",
       " 'LCK Academy',\n",
       " 'LJL Academy',\n",
       " 'LCK Challengers',\n",
       " 'CBLOL Academy',\n",
       " 'North Regional League',\n",
       " 'South Regional League',\n",
       " 'TFT Rising Legends']"
      ]
     },
     "execution_count": 25,
     "metadata": {},
     "output_type": "execute_result"
    }
   ],
   "source": [
    "tournaments = []\n",
    "for i in range(38):\n",
    "\n",
    "    tournaments.append(data[i]['name'])\n",
    "\n",
    "tournaments"
   ]
  },
  {
   "cell_type": "code",
   "execution_count": 14,
   "metadata": {},
   "outputs": [
    {
     "name": "stdout",
     "output_type": "stream",
     "text": [
      "List of <class 'dict'> (length 38)\n",
      "  Key: id, Type: <class 'str'>\n",
      "  Key: name, Type: <class 'str'>\n",
      "  Key: slug, Type: <class 'str'>\n",
      "  Key: sport, Type: <class 'str'>\n",
      "  Key: image, Type: <class 'str'>\n",
      "  Key: lightImage, Type: <class 'str'>\n",
      "  Key: darkImage, Type: <class 'str'>\n",
      "  Key: region, Type: <class 'str'>\n",
      "  Key: priority, Type: <class 'int'>\n",
      "  Key: displayPriority, Type: <class 'dict'>\n",
      "    Key: position, Type: <class 'int'>\n",
      "    Key: status, Type: <class 'str'>\n",
      "  Key: tournaments, Type: <class 'list'>\n",
      "    List of <class 'dict'> (length 25)\n",
      "      Key: id, Type: <class 'str'>\n"
     ]
    }
   ],
   "source": [
    "def inspect_structure(d, indent=0):\n",
    "    if isinstance(d, dict):\n",
    "        for key, value in d.items():\n",
    "            print('  ' * indent + f'Key: {key}, Type: {type(value)}')\n",
    "            inspect_structure(value, indent + 1)\n",
    "    elif isinstance(d, list) and len(d) > 0:\n",
    "        print('  ' * indent + f'List of {type(d[0])} (length {len(d)})')\n",
    "        inspect_structure(d[0], indent + 1)\n",
    "        \n",
    "inspect_structure(data)"
   ]
  },
  {
   "cell_type": "markdown",
   "metadata": {},
   "source": [
    "# Data work"
   ]
  },
  {
   "cell_type": "code",
   "execution_count": 63,
   "metadata": {},
   "outputs": [],
   "source": [
    "import mapping as mp\n",
    "import logging\n",
    "sys.path.append(\"..\")"
   ]
  },
  {
   "cell_type": "code",
   "execution_count": 77,
   "metadata": {},
   "outputs": [
    {
     "ename": "TypeError",
     "evalue": "'NoneType' object is not subscriptable",
     "output_type": "error",
     "traceback": [
      "\u001b[1;31m---------------------------------------------------------------------------\u001b[0m",
      "\u001b[1;31mTypeError\u001b[0m                                 Traceback (most recent call last)",
      "\u001b[1;32mc:\\Users\\akmar\\PycharmProjects\\lolpowerrank\\riot_esports_ranking\\DataPrep\\adhoc.ipynb Cell 21\u001b[0m line \u001b[0;36m7\n\u001b[0;32m      <a href='vscode-notebook-cell:/c%3A/Users/akmar/PycharmProjects/lolpowerrank/riot_esports_ranking/DataPrep/adhoc.ipynb#X32sZmlsZQ%3D%3D?line=4'>5</a>\u001b[0m map_data \u001b[39m=\u001b[39m mp\u001b[39m.\u001b[39mteam_mapping(map_data,filepath)\n\u001b[0;32m      <a href='vscode-notebook-cell:/c%3A/Users/akmar/PycharmProjects/lolpowerrank/riot_esports_ranking/DataPrep/adhoc.ipynb#X32sZmlsZQ%3D%3D?line=5'>6</a>\u001b[0m league_data \u001b[39m=\u001b[39m mp\u001b[39m.\u001b[39mleague_mapping(filepath)\n\u001b[1;32m----> <a href='vscode-notebook-cell:/c%3A/Users/akmar/PycharmProjects/lolpowerrank/riot_esports_ranking/DataPrep/adhoc.ipynb#X32sZmlsZQ%3D%3D?line=6'>7</a>\u001b[0m tournament_data \u001b[39m=\u001b[39m mp\u001b[39m.\u001b[39;49mtournament_mapping(filepath)\n\u001b[0;32m      <a href='vscode-notebook-cell:/c%3A/Users/akmar/PycharmProjects/lolpowerrank/riot_esports_ranking/DataPrep/adhoc.ipynb#X32sZmlsZQ%3D%3D?line=7'>8</a>\u001b[0m \u001b[39m# Merges\u001b[39;00m\n\u001b[0;32m      <a href='vscode-notebook-cell:/c%3A/Users/akmar/PycharmProjects/lolpowerrank/riot_esports_ranking/DataPrep/adhoc.ipynb#X32sZmlsZQ%3D%3D?line=8'>9</a>\u001b[0m tournament_data \u001b[39m=\u001b[39m  tournament_data\u001b[39m.\u001b[39mmerge(map_data,how\u001b[39m=\u001b[39m\u001b[39m\"\u001b[39m\u001b[39mleft\u001b[39m\u001b[39m\"\u001b[39m,left_on\u001b[39m=\u001b[39m\u001b[39m'\u001b[39m\u001b[39mgame_id\u001b[39m\u001b[39m'\u001b[39m,right_on\u001b[39m=\u001b[39m\u001b[39m'\u001b[39m\u001b[39mesportsGameId\u001b[39m\u001b[39m'\u001b[39m)\n",
      "File \u001b[1;32mc:\\Users\\akmar\\PycharmProjects\\lolpowerrank\\riot_esports_ranking\\DataPrep\\mapping.py:173\u001b[0m, in \u001b[0;36mtournament_mapping\u001b[1;34m(filepath, file)\u001b[0m\n\u001b[0;32m    170\u001b[0m team_record \u001b[39m=\u001b[39m team\u001b[39m.\u001b[39mget(\u001b[39m'\u001b[39m\u001b[39mrecord\u001b[39m\u001b[39m'\u001b[39m,[])\n\u001b[0;32m    171\u001b[0m team_result \u001b[39m=\u001b[39m team\u001b[39m.\u001b[39mget(\u001b[39m'\u001b[39m\u001b[39mresult\u001b[39m\u001b[39m'\u001b[39m,[])\n\u001b[1;32m--> 173\u001b[0m team_wins\u001b[39m.\u001b[39mappend(team_record[\u001b[39m'\u001b[39;49m\u001b[39mwins\u001b[39;49m\u001b[39m'\u001b[39;49m])\n\u001b[0;32m    174\u001b[0m team_loss\u001b[39m.\u001b[39mappend(team_record[\u001b[39m'\u001b[39m\u001b[39mlosses\u001b[39m\u001b[39m'\u001b[39m])\n\u001b[0;32m    175\u001b[0m team_tie\u001b[39m.\u001b[39mappend(team_record[\u001b[39m'\u001b[39m\u001b[39mties\u001b[39m\u001b[39m'\u001b[39m])\n",
      "\u001b[1;31mTypeError\u001b[0m: 'NoneType' object is not subscriptable"
     ]
    }
   ],
   "source": [
    "# Load all the data\n",
    "filepath = f\"C:/Users/akmar/PycharmProjects/lolpowerrank/riot_esports_ranking/esports-data/\"\n",
    "map_data = mp.game_mapping(filepath=filepath)\n",
    "map_data = mp.player_mapping(map_data,filepath)\n",
    "map_data = mp.team_mapping(map_data,filepath)\n",
    "league_data = mp.league_mapping(filepath)\n",
    "tournament_data = mp.tournament_mapping(filepath)\n",
    "# Merges\n",
    "tournament_data =  tournament_data.merge(map_data,how=\"left\",left_on='game_id',right_on='esportsGameId')\n",
    "tournament_data = tournament_data.merge(league_data,how=\"left\",on='tournament_id')\n",
    "#tournament_data.to_parquet(\"combined_data_raw.parquet\")\n",
    "# Data Validation\n",
    "t_d_unique = set(tournament_data['game_id'])\n",
    "m_d_unique = set(map_data['esportsGameId'])\n",
    "t_d_diff = t_d_unique.difference(m_d_unique)\n",
    "m_d_diff = m_d_unique.difference(t_d_unique)\n",
    "t_d_unique_2 = set(tournament_data['tournament_id'])\n",
    "l_d_unique_2 = set(league_data['tournament_id'])\n",
    "t_d_diff_2 = t_d_unique_2.difference(l_d_unique_2)\n",
    "l_d_diff = l_d_unique_2.difference(t_d_unique_2)"
   ]
  }
 ],
 "metadata": {
  "kernelspec": {
   "display_name": "base",
   "language": "python",
   "name": "python3"
  },
  "language_info": {
   "codemirror_mode": {
    "name": "ipython",
    "version": 3
   },
   "file_extension": ".py",
   "mimetype": "text/x-python",
   "name": "python",
   "nbconvert_exporter": "python",
   "pygments_lexer": "ipython3",
   "version": "3.9.16"
  },
  "orig_nbformat": 4
 },
 "nbformat": 4,
 "nbformat_minor": 2
}
